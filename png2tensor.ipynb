{
 "cells": [
  {
   "cell_type": "code",
   "execution_count": 3,
   "metadata": {},
   "outputs": [],
   "source": [
    "import numpy as np\n",
    "import torch\n",
    "import os\n",
    "from PIL import Image"
   ]
  },
  {
   "cell_type": "code",
   "execution_count": 4,
   "metadata": {},
   "outputs": [],
   "source": [
    "# Specify the directory path\n",
    "directory_path = '/home/jakobtroidl/Desktop/NVP/logs/EM-25/results/quantize_t_interp_4/'\n",
    "\n",
    "# List all files in the directory\n",
    "file_list = os.listdir(directory_path)\n",
    "\n",
    "# Sort the list of files\n",
    "file_list.sort()\n",
    "\n",
    "images = []\n",
    "\n",
    "# Print the list of files\n",
    "for file in file_list:\n",
    "    # Open the image using Pillow\n",
    "    image = Image.open(directory_path + file)\n",
    "    array = np.array(image)\n",
    "    images.append(array)\n",
    "\n",
    "# Convert the list of images to a 3D array\n",
    "images = np.array(images)\n"
   ]
  },
  {
   "cell_type": "code",
   "execution_count": 5,
   "metadata": {},
   "outputs": [
    {
     "name": "stdout",
     "output_type": "stream",
     "text": [
      "(512, 512, 512)\n",
      "float32\n"
     ]
    }
   ],
   "source": [
    "images = images[..., 0]\n",
    "# convert to float\n",
    "images = images.astype(np.float32)\n",
    "# normalize to the range 0-1\n",
    "images /= 255.0\n",
    "\n",
    "print(images.shape)\n",
    "print(images.dtype)\n",
    "\n"
   ]
  },
  {
   "cell_type": "code",
   "execution_count": 6,
   "metadata": {},
   "outputs": [],
   "source": [
    "np.save('reconstructed-nvp-25-t.npy', images)"
   ]
  }
 ],
 "metadata": {
  "kernelspec": {
   "display_name": "venv",
   "language": "python",
   "name": "python3"
  },
  "language_info": {
   "codemirror_mode": {
    "name": "ipython",
    "version": 3
   },
   "file_extension": ".py",
   "mimetype": "text/x-python",
   "name": "python",
   "nbconvert_exporter": "python",
   "pygments_lexer": "ipython3",
   "version": "3.9.18"
  }
 },
 "nbformat": 4,
 "nbformat_minor": 2
}
