{
 "cells": [
  {
   "cell_type": "code",
   "execution_count": 1,
   "metadata": {},
   "outputs": [
    {
     "name": "stderr",
     "output_type": "stream",
     "text": [
      "/home/jakobtroidl/anaconda3/envs/nvp-v2/lib/python3.9/site-packages/tqdm/auto.py:21: TqdmWarning: IProgress not found. Please update jupyter and ipywidgets. See https://ipywidgets.readthedocs.io/en/stable/user_install.html\n",
      "  from .autonotebook import tqdm as notebook_tqdm\n"
     ]
    }
   ],
   "source": [
    "import numpy as np\n",
    "import torch"
   ]
  },
  {
   "cell_type": "code",
   "execution_count": 2,
   "metadata": {},
   "outputs": [
    {
     "name": "stdout",
     "output_type": "stream",
     "text": [
      "(202, 512, 512)\n",
      "torch.Size([512, 512, 202])\n"
     ]
    }
   ],
   "source": [
    "# transforms reconstructed data into same coordinate frame as groundtruth\n",
    "# load np file\n",
    "path = \"/home/jakobtroidl/Desktop/NVP/data/baselines/reconstructed-nvp-EM-small.npy\"\n",
    "data = np.load(path)\n",
    "\n",
    "print(data.shape)\n",
    "\n",
    "# convert to torch tensor\n",
    "data = torch.from_numpy(data)\n",
    "data = torch.permute(data.squeeze(), (1, 2, 0))\n",
    "\n",
    "print(data.shape)\n"
   ]
  },
  {
   "cell_type": "code",
   "execution_count": 3,
   "metadata": {},
   "outputs": [],
   "source": [
    "# safe data as np file\n",
    "path = \"/home/jakobtroidl/Desktop/NVP/data/baselines/reconstructed-nvp-EM-small-transformed.npy\"\n",
    "np.save(path, data.numpy())"
   ]
  }
 ],
 "metadata": {
  "kernelspec": {
   "display_name": "nvp-v2",
   "language": "python",
   "name": "python3"
  },
  "language_info": {
   "codemirror_mode": {
    "name": "ipython",
    "version": 3
   },
   "file_extension": ".py",
   "mimetype": "text/x-python",
   "name": "python",
   "nbconvert_exporter": "python",
   "pygments_lexer": "ipython3",
   "version": "3.9.18"
  }
 },
 "nbformat": 4,
 "nbformat_minor": 2
}
