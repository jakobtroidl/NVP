{
 "cells": [
  {
   "cell_type": "code",
   "execution_count": 2,
   "metadata": {},
   "outputs": [],
   "source": [
    "import numpy as np\n",
    "from PIL import Image"
   ]
  },
  {
   "cell_type": "code",
   "execution_count": 3,
   "metadata": {},
   "outputs": [],
   "source": [
    "gt_path = \"/home/jakobtroidl/Desktop/NVP/data/baselines/gt_512_512_512.npy\"\n",
    "trilinear_path = \"/home/jakobtroidl/Desktop/NVP/data/baselines/trilinear_reconstructed_128.npy\"\n",
    "nvp_path = \"/home/jakobtroidl/Desktop/NVP/data/baselines/reconstructed-nvp-25-transformed.npy\""
   ]
  },
  {
   "cell_type": "code",
   "execution_count": 14,
   "metadata": {},
   "outputs": [],
   "source": [
    "# load data\n",
    "gt = np.load(gt_path)\n",
    "trilinear = np.load(trilinear_path)\n",
    "nvp = np.load(nvp_path)\n",
    "\n",
    "for data in [[\"trilinear_\", trilinear], [\"nvp_\", nvp], [\"gt_\", gt]]:\n",
    "    xy = data[1][:, :, trilinear.shape[2]//2]\n",
    "    xz = data[1][:, trilinear.shape[1]//2, :]\n",
    "    yz = data[1][trilinear.shape[0]//2, :, :]\n",
    "\n",
    "    im = Image.fromarray((255 * xy).astype('uint8'))\n",
    "    name = data[0] + \"xy.png\"\n",
    "    im.save(str(name))\n",
    "\n",
    "    im = Image.fromarray((255 * xz).astype('uint8'))\n",
    "    name = data[0] + \"xz.png\"\n",
    "    im.save(str(name))\n",
    "\n",
    "    im = Image.fromarray((255 * yz).astype('uint8'))\n",
    "    name = data[0] + \"yz.png\"\n",
    "    im.save(str(name))"
   ]
  },
  {
   "cell_type": "code",
   "execution_count": null,
   "metadata": {},
   "outputs": [],
   "source": []
  }
 ],
 "metadata": {
  "kernelspec": {
   "display_name": "nvp-v2",
   "language": "python",
   "name": "python3"
  },
  "language_info": {
   "codemirror_mode": {
    "name": "ipython",
    "version": 3
   },
   "file_extension": ".py",
   "mimetype": "text/x-python",
   "name": "python",
   "nbconvert_exporter": "python",
   "pygments_lexer": "ipython3",
   "version": "3.9.18"
  }
 },
 "nbformat": 4,
 "nbformat_minor": 2
}
